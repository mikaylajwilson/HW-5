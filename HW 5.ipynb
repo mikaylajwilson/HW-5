{
 "cells": [
  {
   "cell_type": "raw",
   "metadata": {},
   "source": [
    "Mikayla Wilson - Assignment 5 \n",
    "\n",
    "Purpose\n",
    "\n",
    "(1) The quadratic equation: This code takes in values for a, b, c for the quadratic equation and returns both the positive and negative solutions for x. \n",
    "Part (a) is the initial code for this task, computing the positive and negative solutions, using a function, for 0.001x^2 + 1000x + 0.001 = 0. \n",
    "Part (b) is another way to write the solution after multiplying the top and bottom of the quadratic equation by the same factor, with the same test values of 0.001x^2 + 1000x + 0.001 = 0. It includes an explanation of the results. \n",
    "Part (c) is a new code that calculates both roots of a quadratic equation accurately in all cases. \n",
    "\n",
    "(2) The semi-empirical mass formula: This code takes in the values for an atomic nucleus' atomic number, Z, and mass number, A, and returns the binding energy, B, and the binding energy per nucleon, B/A. "
   ]
  },
  {
   "cell_type": "code",
   "execution_count": 48,
   "metadata": {},
   "outputs": [],
   "source": [
    "import numpy as np"
   ]
  },
  {
   "cell_type": "code",
   "execution_count": 164,
   "metadata": {},
   "outputs": [
    {
     "data": {
      "text/plain": [
       "(-9.999894245993346e-07, -999999.999999)"
      ]
     },
     "execution_count": 164,
     "metadata": {},
     "output_type": "execute_result"
    }
   ],
   "source": [
    "#1a more accurate for x2\n",
    "def quadratic_a(a, b, c):\n",
    "    x1 = ((-b + np.sqrt((b**2)-(4*a*c)))/(2*a))\n",
    "    x2 = ((-b - np.sqrt((b**2)-(4*a*c)))/(2*a))\n",
    "    return (x1, x2)\n",
    "quadratic_a(0.001, 1000, 0.001)"
   ]
  },
  {
   "cell_type": "code",
   "execution_count": 165,
   "metadata": {},
   "outputs": [
    {
     "data": {
      "text/plain": [
       "(-1.000000000001e-06, -1000010.5755125057)"
      ]
     },
     "execution_count": 165,
     "metadata": {},
     "output_type": "execute_result"
    }
   ],
   "source": [
    "#1b more accurate for x1\n",
    "def quadratic_b(a, b, c):\n",
    "    x1 = ((2*c)/(-b - np.sqrt((b**2)-(4*a*c))))\n",
    "    x2 = ((2*c)/(-b + np.sqrt((b**2)-(4*a*c))))\n",
    "    return (x1, x2)\n",
    "quadratic_b(0.001, 1000, 0.001)"
   ]
  },
  {
   "cell_type": "code",
   "execution_count": 166,
   "metadata": {},
   "outputs": [
    {
     "data": {
      "text/plain": [
       "(-0.010000003385357559, -99999999.99)"
      ]
     },
     "execution_count": 166,
     "metadata": {},
     "output_type": "execute_result"
    }
   ],
   "source": [
    "quadratic_a(0.0001, 10000, 100)"
   ]
  },
  {
   "cell_type": "code",
   "execution_count": 167,
   "metadata": {
    "scrolled": true
   },
   "outputs": [
    {
     "data": {
      "text/plain": [
       "(-0.010000000001, -99999966.14643587)"
      ]
     },
     "execution_count": 167,
     "metadata": {},
     "output_type": "execute_result"
    }
   ],
   "source": [
    "quadratic_b(0.0001, 10000, 100)"
   ]
  },
  {
   "cell_type": "raw",
   "metadata": {},
   "source": [
    "The values produced for this iteration of the code are not equivalent to the values produced in part 1a. There are slight differences caused by rounding errors in python as a result of a subtraction or division part of the equation."
   ]
  },
  {
   "cell_type": "code",
   "execution_count": 173,
   "metadata": {},
   "outputs": [
    {
     "data": {
      "text/plain": [
       "-0.01000000001"
      ]
     },
     "execution_count": 173,
     "metadata": {},
     "output_type": "execute_result"
    }
   ],
   "source": [
    "#1c\n",
    "def quadratic(a,b, c):\n",
    "    if (b>0) and (b>(4*a*c))*10**10:\n",
    "        return ((-b - np.sqrt((b**2)-(4*a*c)))/(2*a)) and ((2*c)/(-b - np.sqrt((b**2)-(4*a*c))))\n",
    "    elif (b>0) and (b> (4*a*c))*(10**10):\n",
    "        return ((-b + np.sqrt((b**2)-(4*a*c)))/(2*a))and ((2*c)/(-b + np.sqrt((b**2)-(4*a*c))))\n",
    "    elif b==0:\n",
    "        return ((-b + np.sqrt((b**2)-(4*a*c)))/(2*a))\n",
    "quadratic(0.001, 10000, 100)"
   ]
  },
  {
   "cell_type": "code",
   "execution_count": 156,
   "metadata": {},
   "outputs": [
    {
     "data": {
      "text/plain": [
       "(490.78425241273493, 8.46179745539198)"
      ]
     },
     "execution_count": 156,
     "metadata": {},
     "output_type": "execute_result"
    }
   ],
   "source": [
    "#2\n",
    "def nucleus(A, Z):\n",
    "    a1 = 15.67\n",
    "    a2 = 17.23\n",
    "    a3 = 0.75\n",
    "    a4= 93.2\n",
    "    if A%2==0 and Z%2==0:\n",
    "        a5=12\n",
    "    elif A%2==0:\n",
    "        a5= -12.0\n",
    "    else:\n",
    "        a5 = 0\n",
    "    B = a1*A - a2*(A**(2/3)) - a3*((Z**2)/(A**(1/3))) - a4*(((A-(2*Z))**2)/A) - (a5/(A**(1/2)))\n",
    "    return(B, B/A)\n",
    "nucleus(58,28)"
   ]
  },
  {
   "cell_type": "code",
   "execution_count": 157,
   "metadata": {},
   "outputs": [
    {
     "data": {
      "text/plain": [
       "(498.144677545714, 8.443130127893458)"
      ]
     },
     "execution_count": 157,
     "metadata": {},
     "output_type": "execute_result"
    }
   ],
   "source": [
    "nucleus(59,28)"
   ]
  },
  {
   "cell_type": "code",
   "execution_count": 158,
   "metadata": {},
   "outputs": [
    {
     "data": {
      "text/plain": [
       "(485.30934897614435, 8.367402568554214)"
      ]
     },
     "execution_count": 158,
     "metadata": {},
     "output_type": "execute_result"
    }
   ],
   "source": [
    "nucleus(58,27)"
   ]
  }
 ],
 "metadata": {
  "kernelspec": {
   "display_name": "Python 3",
   "language": "python",
   "name": "python3"
  },
  "language_info": {
   "codemirror_mode": {
    "name": "ipython",
    "version": 3
   },
   "file_extension": ".py",
   "mimetype": "text/x-python",
   "name": "python",
   "nbconvert_exporter": "python",
   "pygments_lexer": "ipython3",
   "version": "3.7.3"
  }
 },
 "nbformat": 4,
 "nbformat_minor": 2
}
